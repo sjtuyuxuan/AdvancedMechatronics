{
 "cells": [
  {
   "cell_type": "code",
   "execution_count": 1,
   "metadata": {},
   "outputs": [
    {
     "name": "stdout",
     "output_type": "stream",
     "text": [
      "Start!\n"
     ]
    },
    {
     "data": {
      "text/plain": [
       "[<matplotlib.lines.Line2D at 0x7f014d415b20>,\n",
       " <matplotlib.lines.Line2D at 0x7f014d415b50>]"
      ]
     },
     "execution_count": 1,
     "metadata": {},
     "output_type": "execute_result"
    },
    {
     "data": {
      "image/png": "[encoded data removed]",
      "text/plain": [
       "<Figure size 432x288 with 1 Axes>"
      ]
     },
     "metadata": {
      "needs_background": "light"
     },
     "output_type": "display_data"
    }
   ],
   "source": [
    "import numpy as np\n",
    "print(\"Start!\")\n",
    "t = np.linspace(0, 10, 1024)\n",
    "value = np.sin(200 * t) + np.cos(30 * t) + np.sin(t + 1)\n",
    "out = np.fft.fft(value)\n",
    "import matplotlib.pyplot as plt\n",
    "freq = np.fft.fftfreq(t.shape[-1])\n",
    "plt.plot(freq, out.real, freq, out.imag)"
   ]
  },
  {
   "cell_type": "code",
   "execution_count": 1,
   "metadata": {},
   "outputs": [],
   "source": [
    "# draw a 40 x 30 image from serial data\n",
    "import serial\n",
    "import cv2\n",
    "ser = serial.Serial('/dev/ttyACM1',timeout=1) # use your port name\n",
    "#print(ser.name)\n",
    "\n",
    "import numpy as np # for arrays\n",
    "ser.write(b'\\n')\n",
    "WIDTH = 40\n",
    "HEIGHT = 30\n",
    "\n",
    "canvas = np.zeros((30, 40, 3), np.uint8)\n",
    "t = 0\n",
    "while t < 1000:\n",
    "    ser.write(b'\\n')\n",
    "    ser.write(b'\\n')\n",
    "    data = []\n",
    "    while True:\n",
    "        a = ser.readline()\n",
    "        txt = a.split()\n",
    "        if len(txt) == 4:\n",
    "            # print(int(txt[0]))\n",
    "            if len(data) == int(txt[0]):\n",
    "                data.append(np.array([int(txt[3]), int(txt[2]), int(txt[1])], dtype=np.uint8))\n",
    "            if len(data) == 1200:\n",
    "                break\n",
    "    data = np.array(data).reshape(30, 40, 3)\n",
    "    pic = cv2.resize(data, (800, 600), interpolation=cv2.INTER_CUBIC)\n",
    "    cv2.imshow(\"test\", pic)\n",
    "    cv2.waitKey(10000)\n"
   ]
  },
  {
   "cell_type": "code",
   "execution_count": 2,
   "metadata": {},
   "outputs": [],
   "source": [
    "# draw a 40 x 30 image from serial data\n",
    "import serial\n",
    "import cv2\n",
    "ser = serial.Serial('/dev/ttyACM1',timeout=1) # use your port name\n",
    "#print(ser.name)\n",
    "\n",
    "import numpy as np # for arrays\n",
    "ser.write(b'\\n')\n",
    "WIDTH = 40\n",
    "HEIGHT = 30\n",
    "\n",
    "canvas = np.zeros((30, 40, 3), np.uint8)\n",
    "t = 0\n",
    "while t < 1000:\n",
    "    ser.write(b'\\n')\n",
    "    ser.write(b'\\n')\n",
    "    data = []\n",
    "    start = 0\n",
    "    while True:\n",
    "        a = ser.readline()\n",
    "        txt = a.split()\n",
    "        if len(txt) == 4:\n",
    "            if start or int(txt[0]) == 240:\n",
    "                data.append(np.array([int(txt[3]), int(txt[2]), int(txt[1])], dtype=np.uint8))\n",
    "                start = 1\n",
    "            if len(data) == 120:\n",
    "                break\n",
    "    data = np.array(data).reshape(3, 40, 3)\n",
    "    pic = cv2.resize(data, (800, 60), interpolation=cv2.INTER_CUBIC)\n",
    "    cv2.imshow(\"test\", pic)\n",
    "    cv2.waitKey(10000)"
   ]
  },
  {
   "cell_type": "code",
   "execution_count": null,
   "metadata": {},
   "outputs": [],
   "source": []
  }
 ],
 "metadata": {
  "colab": {
   "collapsed_sections": [],
   "name": "hw0-template.ipynb",
   "provenance": []
  },
  "interpreter": {
   "hash": "31f2aee4e71d21fbe5cf8b01ff0e069b9275f58929596ceb00d14d90e3e16cd6"
  },
  "kernelspec": {
   "display_name": "Python 3.8.10 64-bit",
   "language": "python",
   "name": "python3"
  },
  "language_info": {
   "codemirror_mode": {
    "name": "ipython",
    "version": 3
   },
   "file_extension": ".py",
   "mimetype": "text/x-python",
   "name": "python",
   "nbconvert_exporter": "python",
   "pygments_lexer": "ipython3",
   "version": "3.8.10"
  }
 },
 "nbformat": 4,
 "nbformat_minor": 1
}
